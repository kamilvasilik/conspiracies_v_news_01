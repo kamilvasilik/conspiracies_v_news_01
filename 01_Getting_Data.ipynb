{
 "cells": [
  {
   "cell_type": "markdown",
   "metadata": {},
   "source": [
    "# Get the data"
   ]
  },
  {
   "cell_type": "code",
   "execution_count": 1,
   "metadata": {},
   "outputs": [],
   "source": [
    "import requests\n",
    "from bs4 import BeautifulSoup\n",
    "import pickle"
   ]
  },
  {
   "cell_type": "code",
   "execution_count": 2,
   "metadata": {},
   "outputs": [],
   "source": [
    "# 10 urls of articles in conspiracy webesite\n",
    "urls_consp = ['https://vigilantcitizen.com/latestnews/george-floyd-riots-infiltrated-by-extremist-groups-and-agents-provocateurs/',\n",
    "              'https://vigilantcitizen.com/moviesandtv/the-2020-vmas-a-dystopian-abomination/',\n",
    "              'https://vigilantcitizen.com/latestnews/the-satanic-temple-promotes-satanic-ritual-abortions-to-take-advantage-of-religious-liberty-laws/',\n",
    "              'https://vigilantcitizen.com/latestnews/the-true-agenda-of-the-who-a-new-world-order-modeled-after-china/',\n",
    "              'https://vigilantcitizen.com/vigilantreport/covid-19-lockdown-a-global-human-experiment/',\n",
    "              'https://vigilantcitizen.com/vigilantreport/lebanon-was-torn-apart-by-a-civil-war-and-the-u-s-is-going-down-a-similar-path/',\n",
    "              'https://vigilantcitizen.com/latestnews/university-professor-loses-admin-job-for-stating-that-men-cannot-get-pregnant/',\n",
    "              'https://vigilantcitizen.com/latestnews/order-out-of-chaos-how-the-elites-plans-were-foretold-in-popular-culture/',\n",
    "              'https://vigilantcitizen.com/latestnews/the-elite-machine-behind-greta-thunberg/',\n",
    "              'https://vigilantcitizen.com/vigilantreport/wayfair-and-child-trafficking-the-rabbit-hole-goes-deep/']\n",
    "\n",
    "# 10 urls of articles in news website\n",
    "urls_news = ['https://edition.cnn.com/2020/09/06/india/india-mental-health-dst-intl-hnk/index.html',\n",
    "             'https://edition.cnn.com/2020/09/06/asia/hong-kong-protests-elections-arrest-intl/index.html',\n",
    "             'https://edition.cnn.com/2020/09/05/politics/joe-biden-transition-team/index.html',\n",
    "             'https://edition.cnn.com/2020/09/06/media/jeffrey-goldberg-atlantic-trump-reliable-sources/index.html',\n",
    "             'https://edition.cnn.com/2020/09/04/tech/covid-19-american-russian-plan/index.html',\n",
    "             'https://edition.cnn.com/2020/09/03/health/coronavirus-vaccine-october-unlikely/index.html',\n",
    "             'https://edition.cnn.com/2020/09/06/business/china-livestream-shopping-spc-intl-hnk/index.html',\n",
    "             'https://edition.cnn.com/2020/09/03/europe/europe-reopening-second-wave-intl/index.html',\n",
    "             'https://edition.cnn.com/2020/09/06/europe/russia-vaccine-putin-opposition-intl/index.html',\n",
    "             'https://edition.cnn.com/2020/09/04/health/elderly-care-coronavirus-who-tedros-intl/index.html']"
   ]
  },
  {
   "cell_type": "code",
   "execution_count": 3,
   "metadata": {},
   "outputs": [],
   "source": [
    "def url_to_transcript(url):\n",
    "    page = requests.get(url).text\n",
    "    soup = BeautifulSoup(page, 'lxml')\n",
    "    # web scraping of vigilantcitizen website\n",
    "    text = [p.text for p in soup.find(id=\"mvp-content-main\").find_all('p')]\n",
    "    print(url)\n",
    "    return text"
   ]
  },
  {
   "cell_type": "code",
   "execution_count": 4,
   "metadata": {
    "scrolled": true
   },
   "outputs": [
    {
     "name": "stdout",
     "output_type": "stream",
     "text": [
      "https://vigilantcitizen.com/latestnews/george-floyd-riots-infiltrated-by-extremist-groups-and-agents-provocateurs/\n",
      "https://vigilantcitizen.com/moviesandtv/the-2020-vmas-a-dystopian-abomination/\n",
      "https://vigilantcitizen.com/latestnews/the-satanic-temple-promotes-satanic-ritual-abortions-to-take-advantage-of-religious-liberty-laws/\n",
      "https://vigilantcitizen.com/latestnews/the-true-agenda-of-the-who-a-new-world-order-modeled-after-china/\n",
      "https://vigilantcitizen.com/vigilantreport/covid-19-lockdown-a-global-human-experiment/\n",
      "https://vigilantcitizen.com/vigilantreport/lebanon-was-torn-apart-by-a-civil-war-and-the-u-s-is-going-down-a-similar-path/\n",
      "https://vigilantcitizen.com/latestnews/university-professor-loses-admin-job-for-stating-that-men-cannot-get-pregnant/\n",
      "https://vigilantcitizen.com/latestnews/order-out-of-chaos-how-the-elites-plans-were-foretold-in-popular-culture/\n",
      "https://vigilantcitizen.com/latestnews/the-elite-machine-behind-greta-thunberg/\n",
      "https://vigilantcitizen.com/vigilantreport/wayfair-and-child-trafficking-the-rabbit-hole-goes-deep/\n"
     ]
    }
   ],
   "source": [
    "transcripts = [url_to_transcript(u) for u in urls_consp]"
   ]
  },
  {
   "cell_type": "code",
   "execution_count": 5,
   "metadata": {},
   "outputs": [],
   "source": [
    "articles_consp = ['riots', 'vmas', 'satan', 'nwo', 'covid', 'lebanon', 'pregnant', 'chaos', 'greta', 'trafficking']"
   ]
  },
  {
   "cell_type": "code",
   "execution_count": 6,
   "metadata": {},
   "outputs": [],
   "source": [
    "def url_to_articles(url):\n",
    "    page = requests.get(url).text\n",
    "    soup = BeautifulSoup(page, 'lxml')\n",
    "    # web scraping of cnn website\n",
    "    text = [p.text for p in soup.find(class_=\"l-container\").find_all('div')]\n",
    "    print(url)\n",
    "    return text"
   ]
  },
  {
   "cell_type": "code",
   "execution_count": 7,
   "metadata": {},
   "outputs": [
    {
     "name": "stdout",
     "output_type": "stream",
     "text": [
      "https://edition.cnn.com/2020/09/06/india/india-mental-health-dst-intl-hnk/index.html\n",
      "https://edition.cnn.com/2020/09/06/asia/hong-kong-protests-elections-arrest-intl/index.html\n",
      "https://edition.cnn.com/2020/09/05/politics/joe-biden-transition-team/index.html\n",
      "https://edition.cnn.com/2020/09/06/media/jeffrey-goldberg-atlantic-trump-reliable-sources/index.html\n",
      "https://edition.cnn.com/2020/09/04/tech/covid-19-american-russian-plan/index.html\n",
      "https://edition.cnn.com/2020/09/03/health/coronavirus-vaccine-october-unlikely/index.html\n",
      "https://edition.cnn.com/2020/09/06/business/china-livestream-shopping-spc-intl-hnk/index.html\n",
      "https://edition.cnn.com/2020/09/03/europe/europe-reopening-second-wave-intl/index.html\n",
      "https://edition.cnn.com/2020/09/06/europe/russia-vaccine-putin-opposition-intl/index.html\n",
      "https://edition.cnn.com/2020/09/04/health/elderly-care-coronavirus-who-tedros-intl/index.html\n"
     ]
    }
   ],
   "source": [
    "articles = [url_to_articles(u) for u in urls_news]\n",
    "articles_news = ['india', 'hong-kong', 'biden', 'atlantic', 'american-russian-plan', \n",
    "                 'vaccine', 'streaming', 'europe', 'russian-vaccine', 'who']"
   ]
  },
  {
   "cell_type": "code",
   "execution_count": 8,
   "metadata": {},
   "outputs": [],
   "source": [
    "# save pickle file"
   ]
  },
  {
   "cell_type": "code",
   "execution_count": 9,
   "metadata": {},
   "outputs": [],
   "source": [
    "#!mkdir transcripts_conspiracy\n",
    "for i, a in enumerate(articles_consp):\n",
    "    with open('transcripts_conspiracy/' + a + '.txt', 'wb') as file:\n",
    "        pickle.dump(transcripts[i], file)"
   ]
  },
  {
   "cell_type": "code",
   "execution_count": 10,
   "metadata": {},
   "outputs": [],
   "source": [
    "data = {}\n",
    "for i, a in enumerate(articles_consp):\n",
    "    with open('transcripts_conspiracy/' + a + '.txt', 'rb') as file:\n",
    "        data[a] = pickle.load(file)"
   ]
  },
  {
   "cell_type": "code",
   "execution_count": 11,
   "metadata": {},
   "outputs": [],
   "source": [
    "#!mkdir transcripts_news\n",
    "for i, a in enumerate(articles_news):\n",
    "    with open('transcripts_news/' + a + '.txt', 'wb') as file:\n",
    "        pickle.dump(articles[i], file)"
   ]
  },
  {
   "cell_type": "code",
   "execution_count": 12,
   "metadata": {},
   "outputs": [],
   "source": [
    "datan = {}\n",
    "for i,a in enumerate(articles_news):\n",
    "    with open('transcripts_news/' + a + '.txt', 'rb') as file:\n",
    "        datan[a] = pickle.load(file)"
   ]
  },
  {
   "cell_type": "markdown",
   "metadata": {},
   "source": [
    "Every paragraph of article is its own list. It is good to have one list for one article. Therefore it is necesary to combine them together."
   ]
  },
  {
   "cell_type": "code",
   "execution_count": 13,
   "metadata": {},
   "outputs": [
    {
     "data": {
      "text/plain": [
       "38"
      ]
     },
     "execution_count": 13,
     "metadata": {},
     "output_type": "execute_result"
    }
   ],
   "source": [
    "len(data['riots'])"
   ]
  },
  {
   "cell_type": "code",
   "execution_count": 14,
   "metadata": {},
   "outputs": [
    {
     "data": {
      "text/plain": [
       "list"
      ]
     },
     "execution_count": 14,
     "metadata": {},
     "output_type": "execute_result"
    }
   ],
   "source": [
    "type(data['riots'])"
   ]
  },
  {
   "cell_type": "code",
   "execution_count": 15,
   "metadata": {},
   "outputs": [],
   "source": [
    "def combine_data(list_of_text):\n",
    "    data_combine = \" \".join(list_of_text)\n",
    "    return data_combine"
   ]
  },
  {
   "cell_type": "code",
   "execution_count": 16,
   "metadata": {},
   "outputs": [],
   "source": [
    "data_combined = {key: [combine_data(value)] for (key, value) in data.items()}"
   ]
  },
  {
   "cell_type": "code",
   "execution_count": 17,
   "metadata": {},
   "outputs": [
    {
     "data": {
      "text/plain": [
       "'Nearly every year, I publish an article about the VMAs because they always perfectly sum up the vari'"
      ]
     },
     "execution_count": 17,
     "metadata": {},
     "output_type": "execute_result"
    }
   ],
   "source": [
    "data_combined['vmas'][0][:100]"
   ]
  },
  {
   "cell_type": "code",
   "execution_count": 18,
   "metadata": {},
   "outputs": [],
   "source": [
    "# datan - data of news\n",
    "datan_combined = {key: [combine_data(value)] for (key,value) in datan.items()}"
   ]
  },
  {
   "cell_type": "code",
   "execution_count": 19,
   "metadata": {},
   "outputs": [
    {
     "data": {
      "text/plain": [
       "'        By Esha Mitra, CNNUpdated 0632 GMT (1432 HKT) September 7, 2020 Chat with us in Facebook Mes'"
      ]
     },
     "execution_count": 19,
     "metadata": {},
     "output_type": "execute_result"
    }
   ],
   "source": [
    "datan_combined['india'][0][:100]"
   ]
  },
  {
   "cell_type": "code",
   "execution_count": 20,
   "metadata": {},
   "outputs": [
    {
     "data": {
      "text/html": [
       "<div>\n",
       "<style scoped>\n",
       "    .dataframe tbody tr th:only-of-type {\n",
       "        vertical-align: middle;\n",
       "    }\n",
       "\n",
       "    .dataframe tbody tr th {\n",
       "        vertical-align: top;\n",
       "    }\n",
       "\n",
       "    .dataframe thead th {\n",
       "        text-align: right;\n",
       "    }\n",
       "</style>\n",
       "<table border=\"1\" class=\"dataframe\">\n",
       "  <thead>\n",
       "    <tr style=\"text-align: right;\">\n",
       "      <th></th>\n",
       "      <th>article</th>\n",
       "    </tr>\n",
       "  </thead>\n",
       "  <tbody>\n",
       "    <tr>\n",
       "      <th>riots</th>\n",
       "      <td>The death of George Floyd was as horrific as it was charged with symbolism. A police officer, who is supposed to “protect and serve”, presses his ...</td>\n",
       "    </tr>\n",
       "    <tr>\n",
       "      <th>vmas</th>\n",
       "      <td>Nearly every year, I publish an article about the VMAs because they always perfectly sum up the various toxic agendas that are being pushed by the...</td>\n",
       "    </tr>\n",
       "    <tr>\n",
       "      <th>satan</th>\n",
       "      <td>In the past years, The Satanic Temple (TST) launched various campaigns exploiting loopholes in laws and regulations to help its favorite causes (s...</td>\n",
       "    </tr>\n",
       "    <tr>\n",
       "      <th>nwo</th>\n",
       "      <td>Since the outbreak of COVID-19 outside of China, the World Health Organization (WHO) has taken a prominent role in the handling of the pandemic on...</td>\n",
       "    </tr>\n",
       "    <tr>\n",
       "      <th>covid</th>\n",
       "      <td>The response to the COVID-19 pandemic launched the largest human experiment in world history. At the moment of writing these lines, over a third o...</td>\n",
       "    </tr>\n",
       "    <tr>\n",
       "      <th>lebanon</th>\n",
       "      <td>45 years ago, a horrific civil war broke out in Lebanon. My parents, like millions of other Lebanese people, fled the country, looking for a bette...</td>\n",
       "    </tr>\n",
       "    <tr>\n",
       "      <th>pregnant</th>\n",
       "      <td>Kathleen Lowrey is an associate professor of anthropology at the Faculty of Arts of the University of Alberta, in Canada. She is also serving as t...</td>\n",
       "    </tr>\n",
       "    <tr>\n",
       "      <th>chaos</th>\n",
       "      <td>Since late 2008, The Vigilant Citizen has been analyzing popular culture to highlight patterns of messages and symbolism. And, since the very firs...</td>\n",
       "    </tr>\n",
       "    <tr>\n",
       "      <th>greta</th>\n",
       "      <td>In the matter of a few months, Greta Thunberg went from a lone girl protesting in front of the Swedish parliament to an international phenomenon. ...</td>\n",
       "    </tr>\n",
       "    <tr>\n",
       "      <th>trafficking</th>\n",
       "      <td>The “Wayfair conspiracy” or “Wayfairgate” has been making rounds online on Reddit, Twitter, Instagram, and Tik Tok. And, the more internet sleuths...</td>\n",
       "    </tr>\n",
       "  </tbody>\n",
       "</table>\n",
       "</div>"
      ],
      "text/plain": [
       "                                                                                                                                                           article\n",
       "riots        The death of George Floyd was as horrific as it was charged with symbolism. A police officer, who is supposed to “protect and serve”, presses his ...\n",
       "vmas         Nearly every year, I publish an article about the VMAs because they always perfectly sum up the various toxic agendas that are being pushed by the...\n",
       "satan        In the past years, The Satanic Temple (TST) launched various campaigns exploiting loopholes in laws and regulations to help its favorite causes (s...\n",
       "nwo          Since the outbreak of COVID-19 outside of China, the World Health Organization (WHO) has taken a prominent role in the handling of the pandemic on...\n",
       "covid        The response to the COVID-19 pandemic launched the largest human experiment in world history. At the moment of writing these lines, over a third o...\n",
       "lebanon      45 years ago, a horrific civil war broke out in Lebanon. My parents, like millions of other Lebanese people, fled the country, looking for a bette...\n",
       "pregnant     Kathleen Lowrey is an associate professor of anthropology at the Faculty of Arts of the University of Alberta, in Canada. She is also serving as t...\n",
       "chaos        Since late 2008, The Vigilant Citizen has been analyzing popular culture to highlight patterns of messages and symbolism. And, since the very firs...\n",
       "greta        In the matter of a few months, Greta Thunberg went from a lone girl protesting in front of the Swedish parliament to an international phenomenon. ...\n",
       "trafficking  The “Wayfair conspiracy” or “Wayfairgate” has been making rounds online on Reddit, Twitter, Instagram, and Tik Tok. And, the more internet sleuths..."
      ]
     },
     "execution_count": 20,
     "metadata": {},
     "output_type": "execute_result"
    }
   ],
   "source": [
    "# make pandas DataFrame\n",
    "\n",
    "import pandas as pd\n",
    "pd.set_option('max_colwidth', 150)\n",
    "\n",
    "data_df = pd.DataFrame(data_combined).transpose()\n",
    "data_df.columns = ['article']\n",
    "data_df"
   ]
  },
  {
   "cell_type": "code",
   "execution_count": 21,
   "metadata": {},
   "outputs": [
    {
     "data": {
      "text/html": [
       "<div>\n",
       "<style scoped>\n",
       "    .dataframe tbody tr th:only-of-type {\n",
       "        vertical-align: middle;\n",
       "    }\n",
       "\n",
       "    .dataframe tbody tr th {\n",
       "        vertical-align: top;\n",
       "    }\n",
       "\n",
       "    .dataframe thead th {\n",
       "        text-align: right;\n",
       "    }\n",
       "</style>\n",
       "<table border=\"1\" class=\"dataframe\">\n",
       "  <thead>\n",
       "    <tr style=\"text-align: right;\">\n",
       "      <th></th>\n",
       "      <th>article</th>\n",
       "    </tr>\n",
       "  </thead>\n",
       "  <tbody>\n",
       "    <tr>\n",
       "      <th>india</th>\n",
       "      <td>By Esha Mitra, CNNUpdated 0632 GMT (1432 HKT) September 7, 2020 Chat with us in Facebook Messenger. Find out what's happening in the world...</td>\n",
       "    </tr>\n",
       "    <tr>\n",
       "      <th>hong-kong</th>\n",
       "      <td>By Vanesse Chan, Bex Wright, Ivan Watson and Jadyn Sham, CNNUpdated 0316 GMT (1116 HKT) September 7, 2020 Chat with us in Facebook Messeng...</td>\n",
       "    </tr>\n",
       "    <tr>\n",
       "      <th>biden</th>\n",
       "      <td>By Eric Bradner, CNNUpdated 1819 GMT (0219 HKT) September 5, 2020 Chat with us in Facebook Messenger. Find out what's happening in the wor...</td>\n",
       "    </tr>\n",
       "    <tr>\n",
       "      <th>atlantic</th>\n",
       "      <td>By Alexis Benveniste, CNN BusinessUpdated 1949 GMT (0349 HKT) September 6, 2020 Chat with us in Facebook Messenger. Find out what's happen...</td>\n",
       "    </tr>\n",
       "    <tr>\n",
       "      <th>american-russian-plan</th>\n",
       "      <td>By Donie O'Sullivan, CNN BusinessUpdated 1244 GMT (2044 HKT) September 4, 2020 Chat with us in Facebook Messenger. Find out what's happeni...</td>\n",
       "    </tr>\n",
       "    <tr>\n",
       "      <th>vaccine</th>\n",
       "      <td>By Maggie Fox, CNNUpdated 1623 GMT (0023 HKT) September 4, 2020 Chat with us in Facebook Messenger. Find out what's happening in the world...</td>\n",
       "    </tr>\n",
       "    <tr>\n",
       "      <th>streaming</th>\n",
       "      <td>JUST WATCHEDChina's billion-dollar shopping obsessionReplayMore Videos ...MUST WATCH (16 Videos)China's billion-dollar shopping obsessionHear fro...</td>\n",
       "    </tr>\n",
       "    <tr>\n",
       "      <th>europe</th>\n",
       "      <td>By Emma Reynolds and Sharon Braithwaite, CNNUpdated 2358 GMT (0758 HKT) September 3, 2020 Chat with us in Facebook Messenger. Find out wha...</td>\n",
       "    </tr>\n",
       "    <tr>\n",
       "      <th>russian-vaccine</th>\n",
       "      <td>By Zahra Ullah and Anna Chernova, CNNUpdated 2059 GMT (0459 HKT) September 6, 2020 Chat with us in Facebook Messenger. Find out what's hap...</td>\n",
       "    </tr>\n",
       "    <tr>\n",
       "      <th>who</th>\n",
       "      <td>By Emma Reynolds, CNNUpdated 1415 GMT (2215 HKT) September 4, 2020 Chat with us in Facebook Messenger. Find out what's happening in the wo...</td>\n",
       "    </tr>\n",
       "  </tbody>\n",
       "</table>\n",
       "</div>"
      ],
      "text/plain": [
       "                                                                                                                                                                     article\n",
       "india                          By Esha Mitra, CNNUpdated 0632 GMT (1432 HKT) September 7, 2020 Chat with us in Facebook Messenger. Find out what's happening in the world...\n",
       "hong-kong                      By Vanesse Chan, Bex Wright, Ivan Watson and Jadyn Sham, CNNUpdated 0316 GMT (1116 HKT) September 7, 2020 Chat with us in Facebook Messeng...\n",
       "biden                          By Eric Bradner, CNNUpdated 1819 GMT (0219 HKT) September 5, 2020 Chat with us in Facebook Messenger. Find out what's happening in the wor...\n",
       "atlantic                       By Alexis Benveniste, CNN BusinessUpdated 1949 GMT (0349 HKT) September 6, 2020 Chat with us in Facebook Messenger. Find out what's happen...\n",
       "american-russian-plan          By Donie O'Sullivan, CNN BusinessUpdated 1244 GMT (2044 HKT) September 4, 2020 Chat with us in Facebook Messenger. Find out what's happeni...\n",
       "vaccine                        By Maggie Fox, CNNUpdated 1623 GMT (0023 HKT) September 4, 2020 Chat with us in Facebook Messenger. Find out what's happening in the world...\n",
       "streaming               JUST WATCHEDChina's billion-dollar shopping obsessionReplayMore Videos ...MUST WATCH (16 Videos)China's billion-dollar shopping obsessionHear fro...\n",
       "europe                         By Emma Reynolds and Sharon Braithwaite, CNNUpdated 2358 GMT (0758 HKT) September 3, 2020 Chat with us in Facebook Messenger. Find out wha...\n",
       "russian-vaccine                By Zahra Ullah and Anna Chernova, CNNUpdated 2059 GMT (0459 HKT) September 6, 2020 Chat with us in Facebook Messenger. Find out what's hap...\n",
       "who                            By Emma Reynolds, CNNUpdated 1415 GMT (2215 HKT) September 4, 2020 Chat with us in Facebook Messenger. Find out what's happening in the wo..."
      ]
     },
     "execution_count": 21,
     "metadata": {},
     "output_type": "execute_result"
    }
   ],
   "source": [
    "datan_df = pd.DataFrame(datan_combined).transpose()\n",
    "datan_df.columns = ['article']\n",
    "datan_df"
   ]
  },
  {
   "cell_type": "markdown",
   "metadata": {},
   "source": [
    "### Cleaning. \n",
    "We will use two rounds of cleaning. In first round we get rid of punctuation, digits, etc. In second round we clean the rest of punctuations (‘’“”…) and end of the lines and special signs."
   ]
  },
  {
   "cell_type": "code",
   "execution_count": 22,
   "metadata": {},
   "outputs": [],
   "source": [
    "import re\n",
    "import string\n",
    "\n",
    "def cleaning_round01(text):\n",
    "    text = text.lower()\n",
    "    text = re.sub('\\[.*?\\]', '', text)\n",
    "    text = re.sub('[%s]' % re.escape(string.punctuation), '', text)\n",
    "    text = re.sub('\\w*\\d\\w*', '', text)\n",
    "    return text\n",
    "\n",
    "round1 = lambda x: cleaning_round01(x)"
   ]
  },
  {
   "cell_type": "code",
   "execution_count": 23,
   "metadata": {},
   "outputs": [
    {
     "data": {
      "text/plain": [
       "'the death of george floyd was as horrific as it was charged with symbolism a police officer who is supposed to “protect and serve” presses his knee on the neck of an unarmed civilian for eight long minutes before losing consciousness floyd pleads with the officer saying “mama” and “i can’t breathe” '"
      ]
     },
     "execution_count": 23,
     "metadata": {},
     "output_type": "execute_result"
    }
   ],
   "source": [
    "data_clean = pd.DataFrame(data_df.article.apply(round1))\n",
    "data_clean.article['riots'][:300]"
   ]
  },
  {
   "cell_type": "code",
   "execution_count": 24,
   "metadata": {},
   "outputs": [
    {
     "data": {
      "text/plain": [
       "'        by esha mitra cnnupdated  gmt  hkt september   chat with us in facebook messenger find out whats happening in the world as it unfolds by esha mitra cnnupdated  gmt  hkt september    chat with us in facebook messenger find out whats happening in the world as it unfolds   chat with us in faceb'"
      ]
     },
     "execution_count": 24,
     "metadata": {},
     "output_type": "execute_result"
    }
   ],
   "source": [
    "datan_clean = pd.DataFrame(datan_df.article.apply(round1))\n",
    "datan_clean.article['india'][:300]"
   ]
  },
  {
   "cell_type": "code",
   "execution_count": 25,
   "metadata": {},
   "outputs": [],
   "source": [
    "def cleaning_round02(text):\n",
    "    text = re.sub('[‘’“”…]', '', text)\n",
    "    text = re.sub('[\\n\\xa0]', '', text)\n",
    "    return text\n",
    "\n",
    "round2 = lambda x: cleaning_round02(x)"
   ]
  },
  {
   "cell_type": "code",
   "execution_count": 26,
   "metadata": {},
   "outputs": [
    {
     "data": {
      "text/plain": [
       "'the death of george floyd was as horrific as it was charged with symbolism a police officer who is supposed to protect and serve presses his knee on the neck of an unarmed civilian for eight long minutes before losing consciousness floyd pleads with the officer saying mama and i cant breathe floyd w'"
      ]
     },
     "execution_count": 26,
     "metadata": {},
     "output_type": "execute_result"
    }
   ],
   "source": [
    "data_cleaner = pd.DataFrame(data_clean.article.apply(round2))\n",
    "data_cleaner.article['riots'][:300]"
   ]
  },
  {
   "cell_type": "code",
   "execution_count": 27,
   "metadata": {},
   "outputs": [
    {
     "data": {
      "text/plain": [
       "'        by esha mitra cnnupdated  gmt  hkt september   chat with us in facebook messenger find out whats happening in the world as it unfolds by esha mitra cnnupdated  gmt  hkt september    chat with us in facebook messenger find out whats happening in the world as it unfolds   chat with us in faceb'"
      ]
     },
     "execution_count": 27,
     "metadata": {},
     "output_type": "execute_result"
    }
   ],
   "source": [
    "datan_cleaner = pd.DataFrame(datan_clean.article.apply(round2))\n",
    "datan_cleaner.article['india'][:300]"
   ]
  },
  {
   "cell_type": "markdown",
   "metadata": {},
   "source": [
    "### Save the data\n",
    "Saving data as pickles. Corpus and document-term matrix (dtm)."
   ]
  },
  {
   "cell_type": "code",
   "execution_count": 28,
   "metadata": {},
   "outputs": [],
   "source": [
    "data_df.to_pickle('corpus.pkl')"
   ]
  },
  {
   "cell_type": "code",
   "execution_count": 29,
   "metadata": {},
   "outputs": [],
   "source": [
    "datan_df.to_pickle('corpusn.pkl')"
   ]
  },
  {
   "cell_type": "code",
   "execution_count": 30,
   "metadata": {},
   "outputs": [],
   "source": [
    "from sklearn.feature_extraction.text import CountVectorizer"
   ]
  },
  {
   "cell_type": "code",
   "execution_count": 31,
   "metadata": {},
   "outputs": [],
   "source": [
    "cv = CountVectorizer(stop_words='english')"
   ]
  },
  {
   "cell_type": "code",
   "execution_count": 32,
   "metadata": {},
   "outputs": [
    {
     "data": {
      "text/html": [
       "<div>\n",
       "<style scoped>\n",
       "    .dataframe tbody tr th:only-of-type {\n",
       "        vertical-align: middle;\n",
       "    }\n",
       "\n",
       "    .dataframe tbody tr th {\n",
       "        vertical-align: top;\n",
       "    }\n",
       "\n",
       "    .dataframe thead th {\n",
       "        text-align: right;\n",
       "    }\n",
       "</style>\n",
       "<table border=\"1\" class=\"dataframe\">\n",
       "  <thead>\n",
       "    <tr style=\"text-align: right;\">\n",
       "      <th></th>\n",
       "      <th>ab</th>\n",
       "      <th>abduct</th>\n",
       "      <th>abducted</th>\n",
       "      <th>aberrant</th>\n",
       "      <th>abiding</th>\n",
       "      <th>ability</th>\n",
       "      <th>able</th>\n",
       "      <th>abomination</th>\n",
       "      <th>abortion</th>\n",
       "      <th>abortions</th>\n",
       "      <th>...</th>\n",
       "      <th>yells</th>\n",
       "      <th>yes</th>\n",
       "      <th>york</th>\n",
       "      <th>young</th>\n",
       "      <th>youre</th>\n",
       "      <th>youth</th>\n",
       "      <th>youtube</th>\n",
       "      <th>zone</th>\n",
       "      <th>zones</th>\n",
       "      <th>zooms</th>\n",
       "    </tr>\n",
       "  </thead>\n",
       "  <tbody>\n",
       "    <tr>\n",
       "      <th>riots</th>\n",
       "      <td>0</td>\n",
       "      <td>0</td>\n",
       "      <td>0</td>\n",
       "      <td>0</td>\n",
       "      <td>0</td>\n",
       "      <td>0</td>\n",
       "      <td>0</td>\n",
       "      <td>0</td>\n",
       "      <td>0</td>\n",
       "      <td>0</td>\n",
       "      <td>...</td>\n",
       "      <td>0</td>\n",
       "      <td>0</td>\n",
       "      <td>0</td>\n",
       "      <td>0</td>\n",
       "      <td>0</td>\n",
       "      <td>0</td>\n",
       "      <td>1</td>\n",
       "      <td>0</td>\n",
       "      <td>0</td>\n",
       "      <td>0</td>\n",
       "    </tr>\n",
       "    <tr>\n",
       "      <th>vmas</th>\n",
       "      <td>0</td>\n",
       "      <td>1</td>\n",
       "      <td>0</td>\n",
       "      <td>0</td>\n",
       "      <td>0</td>\n",
       "      <td>0</td>\n",
       "      <td>0</td>\n",
       "      <td>3</td>\n",
       "      <td>0</td>\n",
       "      <td>0</td>\n",
       "      <td>...</td>\n",
       "      <td>1</td>\n",
       "      <td>0</td>\n",
       "      <td>0</td>\n",
       "      <td>1</td>\n",
       "      <td>1</td>\n",
       "      <td>1</td>\n",
       "      <td>0</td>\n",
       "      <td>0</td>\n",
       "      <td>0</td>\n",
       "      <td>1</td>\n",
       "    </tr>\n",
       "    <tr>\n",
       "      <th>satan</th>\n",
       "      <td>0</td>\n",
       "      <td>0</td>\n",
       "      <td>0</td>\n",
       "      <td>0</td>\n",
       "      <td>0</td>\n",
       "      <td>0</td>\n",
       "      <td>0</td>\n",
       "      <td>0</td>\n",
       "      <td>5</td>\n",
       "      <td>6</td>\n",
       "      <td>...</td>\n",
       "      <td>0</td>\n",
       "      <td>0</td>\n",
       "      <td>0</td>\n",
       "      <td>0</td>\n",
       "      <td>0</td>\n",
       "      <td>0</td>\n",
       "      <td>0</td>\n",
       "      <td>0</td>\n",
       "      <td>0</td>\n",
       "      <td>0</td>\n",
       "    </tr>\n",
       "    <tr>\n",
       "      <th>nwo</th>\n",
       "      <td>0</td>\n",
       "      <td>0</td>\n",
       "      <td>0</td>\n",
       "      <td>1</td>\n",
       "      <td>1</td>\n",
       "      <td>0</td>\n",
       "      <td>0</td>\n",
       "      <td>0</td>\n",
       "      <td>0</td>\n",
       "      <td>0</td>\n",
       "      <td>...</td>\n",
       "      <td>0</td>\n",
       "      <td>0</td>\n",
       "      <td>0</td>\n",
       "      <td>0</td>\n",
       "      <td>0</td>\n",
       "      <td>0</td>\n",
       "      <td>2</td>\n",
       "      <td>0</td>\n",
       "      <td>0</td>\n",
       "      <td>0</td>\n",
       "    </tr>\n",
       "    <tr>\n",
       "      <th>covid</th>\n",
       "      <td>0</td>\n",
       "      <td>0</td>\n",
       "      <td>0</td>\n",
       "      <td>0</td>\n",
       "      <td>0</td>\n",
       "      <td>1</td>\n",
       "      <td>0</td>\n",
       "      <td>0</td>\n",
       "      <td>0</td>\n",
       "      <td>0</td>\n",
       "      <td>...</td>\n",
       "      <td>0</td>\n",
       "      <td>0</td>\n",
       "      <td>1</td>\n",
       "      <td>0</td>\n",
       "      <td>0</td>\n",
       "      <td>0</td>\n",
       "      <td>0</td>\n",
       "      <td>0</td>\n",
       "      <td>0</td>\n",
       "      <td>0</td>\n",
       "    </tr>\n",
       "    <tr>\n",
       "      <th>lebanon</th>\n",
       "      <td>0</td>\n",
       "      <td>0</td>\n",
       "      <td>0</td>\n",
       "      <td>0</td>\n",
       "      <td>0</td>\n",
       "      <td>0</td>\n",
       "      <td>0</td>\n",
       "      <td>0</td>\n",
       "      <td>0</td>\n",
       "      <td>0</td>\n",
       "      <td>...</td>\n",
       "      <td>0</td>\n",
       "      <td>1</td>\n",
       "      <td>0</td>\n",
       "      <td>0</td>\n",
       "      <td>0</td>\n",
       "      <td>0</td>\n",
       "      <td>0</td>\n",
       "      <td>1</td>\n",
       "      <td>1</td>\n",
       "      <td>0</td>\n",
       "    </tr>\n",
       "    <tr>\n",
       "      <th>pregnant</th>\n",
       "      <td>0</td>\n",
       "      <td>0</td>\n",
       "      <td>0</td>\n",
       "      <td>0</td>\n",
       "      <td>0</td>\n",
       "      <td>1</td>\n",
       "      <td>1</td>\n",
       "      <td>0</td>\n",
       "      <td>0</td>\n",
       "      <td>0</td>\n",
       "      <td>...</td>\n",
       "      <td>0</td>\n",
       "      <td>0</td>\n",
       "      <td>0</td>\n",
       "      <td>0</td>\n",
       "      <td>1</td>\n",
       "      <td>0</td>\n",
       "      <td>0</td>\n",
       "      <td>0</td>\n",
       "      <td>0</td>\n",
       "      <td>0</td>\n",
       "    </tr>\n",
       "    <tr>\n",
       "      <th>chaos</th>\n",
       "      <td>2</td>\n",
       "      <td>0</td>\n",
       "      <td>0</td>\n",
       "      <td>0</td>\n",
       "      <td>0</td>\n",
       "      <td>0</td>\n",
       "      <td>0</td>\n",
       "      <td>0</td>\n",
       "      <td>0</td>\n",
       "      <td>0</td>\n",
       "      <td>...</td>\n",
       "      <td>0</td>\n",
       "      <td>0</td>\n",
       "      <td>0</td>\n",
       "      <td>0</td>\n",
       "      <td>0</td>\n",
       "      <td>0</td>\n",
       "      <td>0</td>\n",
       "      <td>0</td>\n",
       "      <td>0</td>\n",
       "      <td>0</td>\n",
       "    </tr>\n",
       "    <tr>\n",
       "      <th>greta</th>\n",
       "      <td>0</td>\n",
       "      <td>0</td>\n",
       "      <td>0</td>\n",
       "      <td>0</td>\n",
       "      <td>0</td>\n",
       "      <td>0</td>\n",
       "      <td>1</td>\n",
       "      <td>0</td>\n",
       "      <td>0</td>\n",
       "      <td>0</td>\n",
       "      <td>...</td>\n",
       "      <td>0</td>\n",
       "      <td>0</td>\n",
       "      <td>0</td>\n",
       "      <td>4</td>\n",
       "      <td>1</td>\n",
       "      <td>2</td>\n",
       "      <td>0</td>\n",
       "      <td>0</td>\n",
       "      <td>0</td>\n",
       "      <td>0</td>\n",
       "    </tr>\n",
       "    <tr>\n",
       "      <th>trafficking</th>\n",
       "      <td>0</td>\n",
       "      <td>0</td>\n",
       "      <td>1</td>\n",
       "      <td>0</td>\n",
       "      <td>0</td>\n",
       "      <td>0</td>\n",
       "      <td>0</td>\n",
       "      <td>0</td>\n",
       "      <td>0</td>\n",
       "      <td>0</td>\n",
       "      <td>...</td>\n",
       "      <td>0</td>\n",
       "      <td>0</td>\n",
       "      <td>0</td>\n",
       "      <td>3</td>\n",
       "      <td>0</td>\n",
       "      <td>1</td>\n",
       "      <td>0</td>\n",
       "      <td>0</td>\n",
       "      <td>0</td>\n",
       "      <td>0</td>\n",
       "    </tr>\n",
       "  </tbody>\n",
       "</table>\n",
       "<p>10 rows × 3470 columns</p>\n",
       "</div>"
      ],
      "text/plain": [
       "             ab  abduct  abducted  aberrant  abiding  ability  able  \\\n",
       "riots         0       0         0         0        0        0     0   \n",
       "vmas          0       1         0         0        0        0     0   \n",
       "satan         0       0         0         0        0        0     0   \n",
       "nwo           0       0         0         1        1        0     0   \n",
       "covid         0       0         0         0        0        1     0   \n",
       "lebanon       0       0         0         0        0        0     0   \n",
       "pregnant      0       0         0         0        0        1     1   \n",
       "chaos         2       0         0         0        0        0     0   \n",
       "greta         0       0         0         0        0        0     1   \n",
       "trafficking   0       0         1         0        0        0     0   \n",
       "\n",
       "             abomination  abortion  abortions  ...  yells  yes  york  young  \\\n",
       "riots                  0         0          0  ...      0    0     0      0   \n",
       "vmas                   3         0          0  ...      1    0     0      1   \n",
       "satan                  0         5          6  ...      0    0     0      0   \n",
       "nwo                    0         0          0  ...      0    0     0      0   \n",
       "covid                  0         0          0  ...      0    0     1      0   \n",
       "lebanon                0         0          0  ...      0    1     0      0   \n",
       "pregnant               0         0          0  ...      0    0     0      0   \n",
       "chaos                  0         0          0  ...      0    0     0      0   \n",
       "greta                  0         0          0  ...      0    0     0      4   \n",
       "trafficking            0         0          0  ...      0    0     0      3   \n",
       "\n",
       "             youre  youth  youtube  zone  zones  zooms  \n",
       "riots            0      0        1     0      0      0  \n",
       "vmas             1      1        0     0      0      1  \n",
       "satan            0      0        0     0      0      0  \n",
       "nwo              0      0        2     0      0      0  \n",
       "covid            0      0        0     0      0      0  \n",
       "lebanon          0      0        0     1      1      0  \n",
       "pregnant         1      0        0     0      0      0  \n",
       "chaos            0      0        0     0      0      0  \n",
       "greta            1      2        0     0      0      0  \n",
       "trafficking      0      1        0     0      0      0  \n",
       "\n",
       "[10 rows x 3470 columns]"
      ]
     },
     "execution_count": 32,
     "metadata": {},
     "output_type": "execute_result"
    }
   ],
   "source": [
    "data_cv = cv.fit_transform(data_cleaner.article)\n",
    "data_dtm = pd.DataFrame(data_cv.toarray(), columns=cv.get_feature_names())\n",
    "data_dtm.index = data_cleaner.index\n",
    "data_dtm"
   ]
  },
  {
   "cell_type": "code",
   "execution_count": 33,
   "metadata": {},
   "outputs": [],
   "source": [
    "data_dtm.to_pickle('dtm.pkl')"
   ]
  },
  {
   "cell_type": "code",
   "execution_count": 34,
   "metadata": {},
   "outputs": [],
   "source": [
    "data_cleaner.to_pickle('data_cleaner.pkl')\n",
    "pickle.dump(cv, open('cv.pkl', 'wb'))"
   ]
  },
  {
   "cell_type": "code",
   "execution_count": null,
   "metadata": {},
   "outputs": [],
   "source": []
  },
  {
   "cell_type": "code",
   "execution_count": 35,
   "metadata": {},
   "outputs": [
    {
     "data": {
      "text/html": [
       "<div>\n",
       "<style scoped>\n",
       "    .dataframe tbody tr th:only-of-type {\n",
       "        vertical-align: middle;\n",
       "    }\n",
       "\n",
       "    .dataframe tbody tr th {\n",
       "        vertical-align: top;\n",
       "    }\n",
       "\n",
       "    .dataframe thead th {\n",
       "        text-align: right;\n",
       "    }\n",
       "</style>\n",
       "<table border=\"1\" class=\"dataframe\">\n",
       "  <thead>\n",
       "    <tr style=\"text-align: right;\">\n",
       "      <th></th>\n",
       "      <th>abandoned</th>\n",
       "      <th>abating</th>\n",
       "      <th>abbott</th>\n",
       "      <th>able</th>\n",
       "      <th>abraham</th>\n",
       "      <th>abrahamcynthia</th>\n",
       "      <th>absence</th>\n",
       "      <th>academic</th>\n",
       "      <th>accelerated</th>\n",
       "      <th>acceptable</th>\n",
       "      <th>...</th>\n",
       "      <th>younger</th>\n",
       "      <th>youre</th>\n",
       "      <th>yuan</th>\n",
       "      <th>yuri</th>\n",
       "      <th>zahra</th>\n",
       "      <th>zatolokina</th>\n",
       "      <th>zero</th>\n",
       "      <th>zhashui</th>\n",
       "      <th>zhou</th>\n",
       "      <th>zients</th>\n",
       "    </tr>\n",
       "  </thead>\n",
       "  <tbody>\n",
       "    <tr>\n",
       "      <th>india</th>\n",
       "      <td>0</td>\n",
       "      <td>0</td>\n",
       "      <td>0</td>\n",
       "      <td>0</td>\n",
       "      <td>0</td>\n",
       "      <td>0</td>\n",
       "      <td>0</td>\n",
       "      <td>0</td>\n",
       "      <td>0</td>\n",
       "      <td>6</td>\n",
       "      <td>...</td>\n",
       "      <td>0</td>\n",
       "      <td>0</td>\n",
       "      <td>0</td>\n",
       "      <td>0</td>\n",
       "      <td>0</td>\n",
       "      <td>0</td>\n",
       "      <td>6</td>\n",
       "      <td>0</td>\n",
       "      <td>0</td>\n",
       "      <td>0</td>\n",
       "    </tr>\n",
       "    <tr>\n",
       "      <th>hong-kong</th>\n",
       "      <td>0</td>\n",
       "      <td>6</td>\n",
       "      <td>0</td>\n",
       "      <td>0</td>\n",
       "      <td>0</td>\n",
       "      <td>0</td>\n",
       "      <td>0</td>\n",
       "      <td>8</td>\n",
       "      <td>0</td>\n",
       "      <td>0</td>\n",
       "      <td>...</td>\n",
       "      <td>0</td>\n",
       "      <td>0</td>\n",
       "      <td>0</td>\n",
       "      <td>0</td>\n",
       "      <td>0</td>\n",
       "      <td>0</td>\n",
       "      <td>0</td>\n",
       "      <td>0</td>\n",
       "      <td>0</td>\n",
       "      <td>0</td>\n",
       "    </tr>\n",
       "    <tr>\n",
       "      <th>biden</th>\n",
       "      <td>0</td>\n",
       "      <td>0</td>\n",
       "      <td>0</td>\n",
       "      <td>0</td>\n",
       "      <td>1</td>\n",
       "      <td>5</td>\n",
       "      <td>0</td>\n",
       "      <td>0</td>\n",
       "      <td>0</td>\n",
       "      <td>0</td>\n",
       "      <td>...</td>\n",
       "      <td>0</td>\n",
       "      <td>0</td>\n",
       "      <td>0</td>\n",
       "      <td>0</td>\n",
       "      <td>0</td>\n",
       "      <td>0</td>\n",
       "      <td>0</td>\n",
       "      <td>0</td>\n",
       "      <td>0</td>\n",
       "      <td>11</td>\n",
       "    </tr>\n",
       "    <tr>\n",
       "      <th>atlantic</th>\n",
       "      <td>0</td>\n",
       "      <td>0</td>\n",
       "      <td>0</td>\n",
       "      <td>5</td>\n",
       "      <td>0</td>\n",
       "      <td>0</td>\n",
       "      <td>0</td>\n",
       "      <td>0</td>\n",
       "      <td>0</td>\n",
       "      <td>0</td>\n",
       "      <td>...</td>\n",
       "      <td>0</td>\n",
       "      <td>0</td>\n",
       "      <td>0</td>\n",
       "      <td>0</td>\n",
       "      <td>0</td>\n",
       "      <td>0</td>\n",
       "      <td>0</td>\n",
       "      <td>0</td>\n",
       "      <td>0</td>\n",
       "      <td>0</td>\n",
       "    </tr>\n",
       "    <tr>\n",
       "      <th>american-russian-plan</th>\n",
       "      <td>0</td>\n",
       "      <td>0</td>\n",
       "      <td>0</td>\n",
       "      <td>6</td>\n",
       "      <td>0</td>\n",
       "      <td>0</td>\n",
       "      <td>0</td>\n",
       "      <td>0</td>\n",
       "      <td>0</td>\n",
       "      <td>0</td>\n",
       "      <td>...</td>\n",
       "      <td>0</td>\n",
       "      <td>0</td>\n",
       "      <td>0</td>\n",
       "      <td>0</td>\n",
       "      <td>0</td>\n",
       "      <td>0</td>\n",
       "      <td>0</td>\n",
       "      <td>0</td>\n",
       "      <td>0</td>\n",
       "      <td>0</td>\n",
       "    </tr>\n",
       "    <tr>\n",
       "      <th>vaccine</th>\n",
       "      <td>0</td>\n",
       "      <td>0</td>\n",
       "      <td>0</td>\n",
       "      <td>6</td>\n",
       "      <td>0</td>\n",
       "      <td>0</td>\n",
       "      <td>0</td>\n",
       "      <td>0</td>\n",
       "      <td>6</td>\n",
       "      <td>0</td>\n",
       "      <td>...</td>\n",
       "      <td>0</td>\n",
       "      <td>0</td>\n",
       "      <td>0</td>\n",
       "      <td>0</td>\n",
       "      <td>0</td>\n",
       "      <td>0</td>\n",
       "      <td>0</td>\n",
       "      <td>0</td>\n",
       "      <td>0</td>\n",
       "      <td>0</td>\n",
       "    </tr>\n",
       "    <tr>\n",
       "      <th>streaming</th>\n",
       "      <td>0</td>\n",
       "      <td>0</td>\n",
       "      <td>0</td>\n",
       "      <td>0</td>\n",
       "      <td>0</td>\n",
       "      <td>0</td>\n",
       "      <td>0</td>\n",
       "      <td>0</td>\n",
       "      <td>0</td>\n",
       "      <td>0</td>\n",
       "      <td>...</td>\n",
       "      <td>0</td>\n",
       "      <td>5</td>\n",
       "      <td>10</td>\n",
       "      <td>0</td>\n",
       "      <td>0</td>\n",
       "      <td>0</td>\n",
       "      <td>0</td>\n",
       "      <td>9</td>\n",
       "      <td>15</td>\n",
       "      <td>0</td>\n",
       "    </tr>\n",
       "    <tr>\n",
       "      <th>europe</th>\n",
       "      <td>0</td>\n",
       "      <td>0</td>\n",
       "      <td>0</td>\n",
       "      <td>0</td>\n",
       "      <td>0</td>\n",
       "      <td>0</td>\n",
       "      <td>0</td>\n",
       "      <td>0</td>\n",
       "      <td>0</td>\n",
       "      <td>0</td>\n",
       "      <td>...</td>\n",
       "      <td>6</td>\n",
       "      <td>0</td>\n",
       "      <td>0</td>\n",
       "      <td>0</td>\n",
       "      <td>0</td>\n",
       "      <td>0</td>\n",
       "      <td>0</td>\n",
       "      <td>0</td>\n",
       "      <td>0</td>\n",
       "      <td>0</td>\n",
       "    </tr>\n",
       "    <tr>\n",
       "      <th>russian-vaccine</th>\n",
       "      <td>0</td>\n",
       "      <td>0</td>\n",
       "      <td>0</td>\n",
       "      <td>0</td>\n",
       "      <td>0</td>\n",
       "      <td>0</td>\n",
       "      <td>6</td>\n",
       "      <td>0</td>\n",
       "      <td>0</td>\n",
       "      <td>0</td>\n",
       "      <td>...</td>\n",
       "      <td>0</td>\n",
       "      <td>0</td>\n",
       "      <td>0</td>\n",
       "      <td>1</td>\n",
       "      <td>2</td>\n",
       "      <td>6</td>\n",
       "      <td>0</td>\n",
       "      <td>0</td>\n",
       "      <td>0</td>\n",
       "      <td>0</td>\n",
       "    </tr>\n",
       "    <tr>\n",
       "      <th>who</th>\n",
       "      <td>6</td>\n",
       "      <td>0</td>\n",
       "      <td>7</td>\n",
       "      <td>24</td>\n",
       "      <td>0</td>\n",
       "      <td>0</td>\n",
       "      <td>0</td>\n",
       "      <td>0</td>\n",
       "      <td>0</td>\n",
       "      <td>0</td>\n",
       "      <td>...</td>\n",
       "      <td>0</td>\n",
       "      <td>0</td>\n",
       "      <td>0</td>\n",
       "      <td>0</td>\n",
       "      <td>0</td>\n",
       "      <td>0</td>\n",
       "      <td>6</td>\n",
       "      <td>0</td>\n",
       "      <td>0</td>\n",
       "      <td>0</td>\n",
       "    </tr>\n",
       "  </tbody>\n",
       "</table>\n",
       "<p>10 rows × 3061 columns</p>\n",
       "</div>"
      ],
      "text/plain": [
       "                       abandoned  abating  abbott  able  abraham  \\\n",
       "india                          0        0       0     0        0   \n",
       "hong-kong                      0        6       0     0        0   \n",
       "biden                          0        0       0     0        1   \n",
       "atlantic                       0        0       0     5        0   \n",
       "american-russian-plan          0        0       0     6        0   \n",
       "vaccine                        0        0       0     6        0   \n",
       "streaming                      0        0       0     0        0   \n",
       "europe                         0        0       0     0        0   \n",
       "russian-vaccine                0        0       0     0        0   \n",
       "who                            6        0       7    24        0   \n",
       "\n",
       "                       abrahamcynthia  absence  academic  accelerated  \\\n",
       "india                               0        0         0            0   \n",
       "hong-kong                           0        0         8            0   \n",
       "biden                               5        0         0            0   \n",
       "atlantic                            0        0         0            0   \n",
       "american-russian-plan               0        0         0            0   \n",
       "vaccine                             0        0         0            6   \n",
       "streaming                           0        0         0            0   \n",
       "europe                              0        0         0            0   \n",
       "russian-vaccine                     0        6         0            0   \n",
       "who                                 0        0         0            0   \n",
       "\n",
       "                       acceptable  ...  younger  youre  yuan  yuri  zahra  \\\n",
       "india                           6  ...        0      0     0     0      0   \n",
       "hong-kong                       0  ...        0      0     0     0      0   \n",
       "biden                           0  ...        0      0     0     0      0   \n",
       "atlantic                        0  ...        0      0     0     0      0   \n",
       "american-russian-plan           0  ...        0      0     0     0      0   \n",
       "vaccine                         0  ...        0      0     0     0      0   \n",
       "streaming                       0  ...        0      5    10     0      0   \n",
       "europe                          0  ...        6      0     0     0      0   \n",
       "russian-vaccine                 0  ...        0      0     0     1      2   \n",
       "who                             0  ...        0      0     0     0      0   \n",
       "\n",
       "                       zatolokina  zero  zhashui  zhou  zients  \n",
       "india                           0     6        0     0       0  \n",
       "hong-kong                       0     0        0     0       0  \n",
       "biden                           0     0        0     0      11  \n",
       "atlantic                        0     0        0     0       0  \n",
       "american-russian-plan           0     0        0     0       0  \n",
       "vaccine                         0     0        0     0       0  \n",
       "streaming                       0     0        9    15       0  \n",
       "europe                          0     0        0     0       0  \n",
       "russian-vaccine                 6     0        0     0       0  \n",
       "who                             0     6        0     0       0  \n",
       "\n",
       "[10 rows x 3061 columns]"
      ]
     },
     "execution_count": 35,
     "metadata": {},
     "output_type": "execute_result"
    }
   ],
   "source": [
    "datan_cv = cv.fit_transform(datan_cleaner.article)\n",
    "datan_dtm = pd.DataFrame(datan_cv.toarray(), columns=cv.get_feature_names())\n",
    "datan_dtm.index = datan_cleaner.index\n",
    "datan_dtm"
   ]
  },
  {
   "cell_type": "code",
   "execution_count": 36,
   "metadata": {},
   "outputs": [],
   "source": [
    "datan_dtm.to_pickle('dtmn.pkl')"
   ]
  },
  {
   "cell_type": "code",
   "execution_count": 37,
   "metadata": {},
   "outputs": [],
   "source": [
    "datan_cleaner.to_pickle('datan_cleaner.pkl')"
   ]
  },
  {
   "cell_type": "markdown",
   "metadata": {},
   "source": [
    "### Opinion articles from news site\n",
    "Same process of gathering and cleaning as before. These 'opinion' articles are for testing purposes."
   ]
  },
  {
   "cell_type": "code",
   "execution_count": 38,
   "metadata": {},
   "outputs": [],
   "source": [
    "urls_op = ['https://edition.cnn.com/2020/09/05/opinions/labor-day-summer-of-staying-put-carr/index.html', \n",
    "           'https://edition.cnn.com/2020/09/07/opinions/navalny-poison-trump-putin-vinograd/index.html', \n",
    "           'https://edition.cnn.com/2020/09/07/opinions/work-colleagues-flexible-work-rules-parents/index.html']"
   ]
  },
  {
   "cell_type": "code",
   "execution_count": 40,
   "metadata": {},
   "outputs": [
    {
     "name": "stdout",
     "output_type": "stream",
     "text": [
      "https://edition.cnn.com/2020/09/05/opinions/labor-day-summer-of-staying-put-carr/index.html\n",
      "https://edition.cnn.com/2020/09/07/opinions/navalny-poison-trump-putin-vinograd/index.html\n",
      "https://edition.cnn.com/2020/09/07/opinions/work-colleagues-flexible-work-rules-parents/index.html\n"
     ]
    }
   ],
   "source": [
    "articles_op = [url_to_articles(u) for u in urls_op]\n",
    "opinions = ['summer', 'politics', 'working']"
   ]
  },
  {
   "cell_type": "code",
   "execution_count": 41,
   "metadata": {},
   "outputs": [],
   "source": [
    "#!mkdir transcripts_opinions\n",
    "for i,a in enumerate(opinions):\n",
    "    with open('transcripts_opinions/' + a + '.txt', 'wb') as file:\n",
    "        pickle.dump(articles_op[i], file)"
   ]
  },
  {
   "cell_type": "code",
   "execution_count": 42,
   "metadata": {},
   "outputs": [],
   "source": [
    "datao = {}\n",
    "for i,a in enumerate(opinions):\n",
    "    with open('transcripts_opinions/' + a + '.txt', 'rb') as file:\n",
    "        datao[a] = pickle.load(file)"
   ]
  },
  {
   "cell_type": "code",
   "execution_count": 43,
   "metadata": {},
   "outputs": [
    {
     "data": {
      "text/plain": [
       "\"        Opinion by Kara AlaimoUpdated 1829 GMT (0229 HKT) September 7, 2020 Chat with us in Facebook Messenger. Find out what's happening in the world as it unfolds. Opinion by Kara AlaimoUpdated 1829 GMT (0229 HKT) September 7, 2020  Chat with us in Facebook Messenger. Find out what's happening in the world as it unfolds.   Chat with us in Facebook Messenger. Find out what's happening in the world as it unfolds.          JUST WATCHEDTwo-thirds of 100 largest school districts starting onlineRepl\""
      ]
     },
     "execution_count": 43,
     "metadata": {},
     "output_type": "execute_result"
    }
   ],
   "source": [
    "datao_combined = {key: [combine_data(value)] for (key, value) in datao.items()}\n",
    "datao_combined['working'][0][:500]"
   ]
  },
  {
   "cell_type": "code",
   "execution_count": 44,
   "metadata": {},
   "outputs": [
    {
     "data": {
      "text/html": [
       "<div>\n",
       "<style scoped>\n",
       "    .dataframe tbody tr th:only-of-type {\n",
       "        vertical-align: middle;\n",
       "    }\n",
       "\n",
       "    .dataframe tbody tr th {\n",
       "        vertical-align: top;\n",
       "    }\n",
       "\n",
       "    .dataframe thead th {\n",
       "        text-align: right;\n",
       "    }\n",
       "</style>\n",
       "<table border=\"1\" class=\"dataframe\">\n",
       "  <thead>\n",
       "    <tr style=\"text-align: right;\">\n",
       "      <th></th>\n",
       "      <th>opinions</th>\n",
       "    </tr>\n",
       "  </thead>\n",
       "  <tbody>\n",
       "    <tr>\n",
       "      <th>summer</th>\n",
       "      <td>JUST WATCHEDTo stop coronavirus, CDC orders evictions haltReplayMore Videos ...MUST WATCHTo stop coronavirus, CDC orders evictions halt 03:03How ...</td>\n",
       "    </tr>\n",
       "    <tr>\n",
       "      <th>politics</th>\n",
       "      <td>Opinion by Samantha VinogradUpdated 1956 GMT (0356 HKT) September 7, 2020 Chat with us in Facebook Messenger. Find out what's happening in...</td>\n",
       "    </tr>\n",
       "    <tr>\n",
       "      <th>working</th>\n",
       "      <td>Opinion by Kara AlaimoUpdated 1829 GMT (0229 HKT) September 7, 2020 Chat with us in Facebook Messenger. Find out what's happening in the w...</td>\n",
       "    </tr>\n",
       "  </tbody>\n",
       "</table>\n",
       "</div>"
      ],
      "text/plain": [
       "                                                                                                                                                       opinions\n",
       "summer     JUST WATCHEDTo stop coronavirus, CDC orders evictions haltReplayMore Videos ...MUST WATCHTo stop coronavirus, CDC orders evictions halt 03:03How ...\n",
       "politics          Opinion by Samantha VinogradUpdated 1956 GMT (0356 HKT) September 7, 2020 Chat with us in Facebook Messenger. Find out what's happening in...\n",
       "working           Opinion by Kara AlaimoUpdated 1829 GMT (0229 HKT) September 7, 2020 Chat with us in Facebook Messenger. Find out what's happening in the w..."
      ]
     },
     "execution_count": 44,
     "metadata": {},
     "output_type": "execute_result"
    }
   ],
   "source": [
    "datao_df = pd.DataFrame(datao_combined).transpose()\n",
    "datao_df.columns = ['opinions']\n",
    "datao_df"
   ]
  },
  {
   "cell_type": "code",
   "execution_count": 45,
   "metadata": {},
   "outputs": [
    {
     "data": {
      "text/plain": [
       "'        opinion by kara alaimoupdated  gmt  hkt september   chat with us in facebook messenger find out whats happening in the world as it unfolds opinion by kara alaimoupdated  gmt  hkt september    chat with us in facebook messenger find out whats happening in the world as it unfolds   chat with us in facebook messenger find out whats happening in the world as it unfolds          just watchedtwothirds of  largest school districts starting onlinereplaymore videos must watchtwothirds of  largest'"
      ]
     },
     "execution_count": 45,
     "metadata": {},
     "output_type": "execute_result"
    }
   ],
   "source": [
    "#cleaning\n",
    "datao_clean = pd.DataFrame(datao_df.opinions.apply(round1))\n",
    "datao_clean.opinions['working'][:500]"
   ]
  },
  {
   "cell_type": "code",
   "execution_count": 46,
   "metadata": {},
   "outputs": [
    {
     "data": {
      "text/plain": [
       "'        opinion by kara alaimoupdated  gmt  hkt september   chat with us in facebook messenger find out whats happening in the world as it unfolds opinion by kara alaimoupdated  gmt  hkt september    chat with us in facebook messenger find out whats happening in the world as it unfolds   chat with us in facebook messenger find out whats happening in the world as it unfolds          just watchedtwothirds of  largest school districts starting onlinereplaymore videos must watchtwothirds of  largest'"
      ]
     },
     "execution_count": 46,
     "metadata": {},
     "output_type": "execute_result"
    }
   ],
   "source": [
    "#more cleaning\n",
    "datao_cleaner = pd.DataFrame(datao_clean.opinions.apply(round2))\n",
    "datao_cleaner.opinions['working'][:500]"
   ]
  },
  {
   "cell_type": "code",
   "execution_count": 47,
   "metadata": {},
   "outputs": [],
   "source": [
    "datao_df.to_pickle('corpuso.pkl')"
   ]
  },
  {
   "cell_type": "code",
   "execution_count": 48,
   "metadata": {},
   "outputs": [
    {
     "data": {
      "text/html": [
       "<div>\n",
       "<style scoped>\n",
       "    .dataframe tbody tr th:only-of-type {\n",
       "        vertical-align: middle;\n",
       "    }\n",
       "\n",
       "    .dataframe tbody tr th {\n",
       "        vertical-align: top;\n",
       "    }\n",
       "\n",
       "    .dataframe thead th {\n",
       "        text-align: right;\n",
       "    }\n",
       "</style>\n",
       "<table border=\"1\" class=\"dataframe\">\n",
       "  <thead>\n",
       "    <tr style=\"text-align: right;\">\n",
       "      <th></th>\n",
       "      <th>aau</th>\n",
       "      <th>abc</th>\n",
       "      <th>able</th>\n",
       "      <th>aboveground</th>\n",
       "      <th>abrupt</th>\n",
       "      <th>academy</th>\n",
       "      <th>accepted</th>\n",
       "      <th>access</th>\n",
       "      <th>accompany</th>\n",
       "      <th>accomplished</th>\n",
       "      <th>...</th>\n",
       "      <th>yell</th>\n",
       "      <th>yes</th>\n",
       "      <th>york</th>\n",
       "      <th>young</th>\n",
       "      <th>younger</th>\n",
       "      <th>youre</th>\n",
       "      <th>youve</th>\n",
       "      <th>yulia</th>\n",
       "      <th>zimmermann</th>\n",
       "      <th>zion</th>\n",
       "    </tr>\n",
       "  </thead>\n",
       "  <tbody>\n",
       "    <tr>\n",
       "      <th>summer</th>\n",
       "      <td>5</td>\n",
       "      <td>0</td>\n",
       "      <td>30</td>\n",
       "      <td>4</td>\n",
       "      <td>4</td>\n",
       "      <td>0</td>\n",
       "      <td>5</td>\n",
       "      <td>0</td>\n",
       "      <td>5</td>\n",
       "      <td>5</td>\n",
       "      <td>...</td>\n",
       "      <td>5</td>\n",
       "      <td>1</td>\n",
       "      <td>9</td>\n",
       "      <td>0</td>\n",
       "      <td>5</td>\n",
       "      <td>4</td>\n",
       "      <td>4</td>\n",
       "      <td>0</td>\n",
       "      <td>5</td>\n",
       "      <td>9</td>\n",
       "    </tr>\n",
       "    <tr>\n",
       "      <th>politics</th>\n",
       "      <td>0</td>\n",
       "      <td>6</td>\n",
       "      <td>0</td>\n",
       "      <td>0</td>\n",
       "      <td>0</td>\n",
       "      <td>0</td>\n",
       "      <td>0</td>\n",
       "      <td>6</td>\n",
       "      <td>0</td>\n",
       "      <td>0</td>\n",
       "      <td>...</td>\n",
       "      <td>0</td>\n",
       "      <td>0</td>\n",
       "      <td>5</td>\n",
       "      <td>0</td>\n",
       "      <td>0</td>\n",
       "      <td>0</td>\n",
       "      <td>0</td>\n",
       "      <td>5</td>\n",
       "      <td>0</td>\n",
       "      <td>0</td>\n",
       "    </tr>\n",
       "    <tr>\n",
       "      <th>working</th>\n",
       "      <td>0</td>\n",
       "      <td>0</td>\n",
       "      <td>0</td>\n",
       "      <td>0</td>\n",
       "      <td>0</td>\n",
       "      <td>6</td>\n",
       "      <td>0</td>\n",
       "      <td>0</td>\n",
       "      <td>0</td>\n",
       "      <td>0</td>\n",
       "      <td>...</td>\n",
       "      <td>0</td>\n",
       "      <td>0</td>\n",
       "      <td>16</td>\n",
       "      <td>6</td>\n",
       "      <td>0</td>\n",
       "      <td>0</td>\n",
       "      <td>0</td>\n",
       "      <td>0</td>\n",
       "      <td>0</td>\n",
       "      <td>0</td>\n",
       "    </tr>\n",
       "  </tbody>\n",
       "</table>\n",
       "<p>3 rows × 1853 columns</p>\n",
       "</div>"
      ],
      "text/plain": [
       "          aau  abc  able  aboveground  abrupt  academy  accepted  access  \\\n",
       "summer      5    0    30            4       4        0         5       0   \n",
       "politics    0    6     0            0       0        0         0       6   \n",
       "working     0    0     0            0       0        6         0       0   \n",
       "\n",
       "          accompany  accomplished  ...  yell  yes  york  young  younger  \\\n",
       "summer            5             5  ...     5    1     9      0        5   \n",
       "politics          0             0  ...     0    0     5      0        0   \n",
       "working           0             0  ...     0    0    16      6        0   \n",
       "\n",
       "          youre  youve  yulia  zimmermann  zion  \n",
       "summer        4      4      0           5     9  \n",
       "politics      0      0      5           0     0  \n",
       "working       0      0      0           0     0  \n",
       "\n",
       "[3 rows x 1853 columns]"
      ]
     },
     "execution_count": 48,
     "metadata": {},
     "output_type": "execute_result"
    }
   ],
   "source": [
    "datao_cv = cv.fit_transform(datao_cleaner.opinions)\n",
    "datao_dtm = pd.DataFrame(datao_cv.toarray(), columns=cv.get_feature_names())\n",
    "datao_dtm.index = datao_cleaner.index\n",
    "datao_dtm"
   ]
  },
  {
   "cell_type": "code",
   "execution_count": 49,
   "metadata": {},
   "outputs": [],
   "source": [
    "datao_dtm.to_pickle('dtmo.pkl')\n",
    "datao_cleaner.to_pickle('datao_cleaner.pkl')"
   ]
  },
  {
   "cell_type": "code",
   "execution_count": null,
   "metadata": {},
   "outputs": [],
   "source": []
  }
 ],
 "metadata": {
  "kernelspec": {
   "display_name": "Python 3",
   "language": "python",
   "name": "python3"
  },
  "language_info": {
   "codemirror_mode": {
    "name": "ipython",
    "version": 3
   },
   "file_extension": ".py",
   "mimetype": "text/x-python",
   "name": "python",
   "nbconvert_exporter": "python",
   "pygments_lexer": "ipython3",
   "version": "3.8.3"
  }
 },
 "nbformat": 4,
 "nbformat_minor": 4
}
